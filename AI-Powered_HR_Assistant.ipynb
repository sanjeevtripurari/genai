{
 "cells": [
  {
   "cell_type": "code",
   "execution_count": null,
   "id": "c2a64682-b665-4927-bd9d-8cc2555b1a2f",
   "metadata": {},
   "outputs": [],
   "source": [
    "# Crafting an AI-Powered HR Assistant: A Use Case for Nestle’s HR Policy Documents"
   ]
  },
  {
   "cell_type": "markdown",
   "id": "70d352dc-ce1f-41cc-80e5-7409ce699ac1",
   "metadata": {},
   "source": [
    "#\n",
    "# Install python libraries\n",
    "#\n",
    "\n",
    "! pip install langchain\n",
    "! pip install langchain_community\n",
    "! pip install langchain_openai\n",
    "! pip install python-dotenv\n",
    "! pip install streamlit\n",
    "! pip install gradio\n",
    "! pip install langchain_experimental\n",
    "! pip install sentence-transformers\n",
    "! pip install langchain_chroma\n",
    "! pip install langchainhub\n",
    "! pip install unstructured\n",
    "\n",
    "! pip install langchain\n",
    "! pip install langchain_openai\n",
    "! pip install langchain_chroma\n",
    "! pip install langchain_core\n",
    "! pip install faiss-cpu \n"
   ]
  },
  {
   "cell_type": "code",
   "execution_count": 3,
   "id": "cf5ed246-4cf1-49c3-8a18-c0af66dbfea4",
   "metadata": {},
   "outputs": [
    {
     "name": "stdout",
     "output_type": "stream",
     "text": [
      "File loaded successfully..\n",
      "\t\tthe_nestle_hr_policy_pdf_2012.pdf\n",
      "\n",
      "Total Pages 8\n",
      "\n"
     ]
    }
   ],
   "source": [
    "#\n",
    "# Load pdf file: the_nestle_hr_policy_pdf_2012\n",
    "#\n",
    "# The Nestlé Human Resources Policy\n",
    "#\n",
    "# Path is /voc/work\n",
    "\n",
    "from langchain_community.document_loaders import PyPDFLoader\n",
    "loader = PyPDFLoader(\"/voc/work/the_nestle_hr_policy_pdf_2012.pdf\")\n",
    "data = loader.load()  # entire PDF is loaded as a single Document\n",
    "\n",
    "print(\"File loaded successfully..\")\n",
    "print(\"\\t\\tthe_nestle_hr_policy_pdf_2012.pdf\")\n",
    "\n",
    "print(\"\\nTotal Pages\", len(data))\n",
    "print()\n"
   ]
  },
  {
   "cell_type": "code",
   "execution_count": 4,
   "id": "0c7e4fbe-a3ee-448c-96dc-71ffc24d4f2c",
   "metadata": {},
   "outputs": [
    {
     "name": "stdout",
     "output_type": "stream",
     "text": [
      "Document splitted successfully..\n",
      "\n",
      "Total number splitted documents:  20\n",
      "\n"
     ]
    }
   ],
   "source": [
    "#\n",
    "# Split the document \n",
    "#\n",
    "\n",
    "from langchain.text_splitter import RecursiveCharacterTextSplitter\n",
    "text_splitter = RecursiveCharacterTextSplitter(chunk_size=1000)\n",
    "docs = text_splitter.split_documents(data)\n",
    "\n",
    "print(\"Document splitted successfully..\")\n",
    "print(\"\\nTotal number splitted documents: \",len(docs))\n",
    "print()\n"
   ]
  },
  {
   "cell_type": "code",
   "execution_count": 5,
   "id": "2c18fec9-4c2d-4fc7-a098-7cbd79fc7232",
   "metadata": {},
   "outputs": [
    {
     "name": "stdout",
     "output_type": "stream",
     "text": [
      "Vector store created using FAISS and OpenAI Embeddings\n",
      "Retrieve document, by prompt:\n",
      "\t\t What kind of document is it?\n",
      "\n",
      "Total retrieved documents: 6\n",
      "\n",
      "Check retrieved document[0]:\n",
      " Policy\n",
      "Mandatory\n",
      "September  20\n",
      "12\n",
      "Issuing departement\n",
      "Hum\n",
      "an Resources\n",
      "Target audience \n",
      "All\n",
      " employees\n",
      "Approver\n",
      "Executive Board, Nestlé S.A.\n",
      "Repository\n",
      "All Nestlé Principles and Policies, Standards and  \n",
      "Guidelines can be found in the Centre online repository at:  \n",
      "http://intranet.nestle.com/nestledocs\n",
      "Copyright and confidentiality\n",
      "Al\n",
      "l rights belong to Nestec Ltd., Vevey, Switzerland.\n",
      "© 2012, Nestec Ltd.\n",
      "Design\n",
      "Nestec Ltd., Corporate Identity & Design,  \n",
      "Vevey, Switzerland\n",
      "Production\n",
      "brain’print GmbH, Switzerland\n",
      "Paper\n",
      "This report is printed on BVS, a paper produced  \n",
      "from well-managed forests and other controlled sources  \n",
      "certified by the Forest Stewardship Council (FSC).\n"
     ]
    }
   ],
   "source": [
    "#\n",
    "# Store the document in vectore database \n",
    "# \n",
    "# Add retriever based on similarity \n",
    "#\n",
    "\n",
    "from langchain_community.vectorstores import FAISS\n",
    "\n",
    "from langchain_openai import OpenAIEmbeddings\n",
    "from langchain_openai import OpenAI\n",
    "from dotenv import load_dotenv\n",
    "import os\n",
    "load_dotenv()\n",
    "\n",
    "\n",
    "# Extract plain text from documents\n",
    "texts = [doc.page_content for doc in docs]\n",
    "metadatas = [doc.metadata for doc in docs]\n",
    "\n",
    "# Create FAISS vectorstore\n",
    "vectorstore = FAISS.from_texts(texts, embedding=OpenAIEmbeddings(model=\"text-embedding-3-small\"), metadatas=metadatas)\n",
    "print(\"Vector store created using FAISS and OpenAI Embeddings\")\n",
    "\n",
    "# Create retriever\n",
    "retriever = vectorstore.as_retriever(search_type=\"similarity\", search_kwargs={\"k\": 6})\n",
    "\n",
    "# Query prompt\n",
    "prompt = \"What kind of document is it?\"\n",
    "\n",
    "print(\"Retrieve document, by prompt:\\n\\t\\t\", prompt)\n",
    "retrieved_docs = retriever.invoke(prompt)\n",
    "\n",
    "print(\"\\nTotal retrieved documents:\", len(retrieved_docs))\n",
    "if retrieved_docs:\n",
    "    print(\"\\nCheck retrieved document[0]:\\n\", retrieved_docs[0].page_content)\n"
   ]
  },
  {
   "cell_type": "code",
   "execution_count": 6,
   "id": "24831d35-4fa3-49ff-801e-6f1364437b21",
   "metadata": {},
   "outputs": [],
   "source": [
    "#\n",
    "# Generative AI Chat Model \n",
    "# \n",
    "\n",
    "from langchain.chains import create_retrieval_chain\n",
    "from langchain.chains.combine_documents import create_stuff_documents_chain\n",
    "from langchain_core.prompts import ChatPromptTemplate\n",
    "from langchain_openai import ChatOpenAI\n",
    "\n",
    "# Initialize the LLM\n",
    "llm = ChatOpenAI(model=\"gpt-3.5-turbo\", temperature=0, max_tokens=500)\n",
    "\n",
    "# Define the system prompt with placeholder for context\n",
    "system_prompt = (\n",
    "    \"You are an assistant for question-answering tasks. \"\n",
    "    \"Use the following pieces of retrieved context to answer \"\n",
    "    \"the question. If you don't know the answer, say that you \"\n",
    "    \"don't know. Use three sentences maximum and keep the \"\n",
    "    \"answer concise.\\n\\n{context}\"\n",
    ")\n",
    "\n",
    "# Build the chat prompt template\n",
    "prompt = ChatPromptTemplate.from_messages([\n",
    "    (\"system\", system_prompt),\n",
    "    (\"human\", \"{input}\")\n",
    "])\n"
   ]
  },
  {
   "cell_type": "code",
   "execution_count": 7,
   "id": "4d4a83c6-7aa8-4e04-8e36-47707ce5cd7a",
   "metadata": {},
   "outputs": [
    {
     "name": "stdout",
     "output_type": "stream",
     "text": [
      "The document outlines Nestlé's Human Resources Policy, emphasizing the importance of employees in the company's success. It covers guidelines for effective HR management, the vision and mission of the HR function, and the Nestlé employee lifecycle. The policy focuses on putting people at the center of everything Nestlé does, promoting trust, respect, and a supportive work environment.\n"
     ]
    }
   ],
   "source": [
    "#\n",
    "# Design Question Ansering Chain \n",
    "# \n",
    "\n",
    "# Create the document QA chain\n",
    "question_answering_chain = create_stuff_documents_chain(llm, prompt)\n",
    "\n",
    "# Combine retriever and QA chain (retriever should already be defined)\n",
    "rag_chain = create_retrieval_chain(retriever, question_answering_chain)\n",
    "\n",
    "# Use the RAG chain\n",
    "user_input = \"Help me understand the document\"\n",
    "response = rag_chain.invoke({\"input\": user_input})\n",
    "print(response[\"answer\"])\n",
    "\n",
    "\n"
   ]
  },
  {
   "cell_type": "code",
   "execution_count": 8,
   "id": "e35b3eba-b7de-4406-aa18-a030ac639a97",
   "metadata": {},
   "outputs": [],
   "source": [
    "def tellme(prompt):\n",
    "    response = rag_chain.invoke({\"input\": prompt})\n",
    "    return(response[\"answer\"])"
   ]
  },
  {
   "cell_type": "code",
   "execution_count": 9,
   "id": "38597b45-6ba6-491e-a997-b5873c16f77e",
   "metadata": {
    "tags": []
   },
   "outputs": [
    {
     "data": {
      "text/plain": [
       "\"Total rewards at Nestlé include Fixed Pay, Variable Pay, Benefits, Personal Growth and Development, and Work Life Environment. These elements are designed to correspond to what is valued by employees in each market and demonstrate Nestlé's commitment to employee growth and contribution. The programs must be established within the social and legal framework of each country, respecting applicable collective agreements.\""
      ]
     },
     "execution_count": 9,
     "metadata": {},
     "output_type": "execute_result"
    }
   ],
   "source": [
    "tellme(\"what are rewards conditions\")"
   ]
  },
  {
   "cell_type": "code",
   "execution_count": 11,
   "id": "1e563f68-322a-4e9e-9058-0085800848cf",
   "metadata": {},
   "outputs": [
    {
     "data": {
      "text/plain": [
       "'Nestlé has a comprehensive range of training activities and methodologies to support learning and growth for all employees. Training and development priorities are determined by the Company, with responsibility shared between employees, line managers, and Human Resources. Attending training programs is considered a component of ongoing development rather than a reward.'"
      ]
     },
     "execution_count": 11,
     "metadata": {},
     "output_type": "execute_result"
    }
   ],
   "source": [
    "tellme(\"any policy for trainings\")"
   ]
  },
  {
   "cell_type": "code",
   "execution_count": 12,
   "id": "05ea58b4-7eb9-4ea7-a6c1-bd92b0307827",
   "metadata": {},
   "outputs": [
    {
     "data": {
      "text/plain": [
       "\"I don't have specific information on leave policies in the provided context.\""
      ]
     },
     "execution_count": 12,
     "metadata": {},
     "output_type": "execute_result"
    }
   ],
   "source": [
    "tellme(\"what are leave policies\")"
   ]
  },
  {
   "cell_type": "code",
   "execution_count": 13,
   "id": "fa3a2133-8113-42f7-882b-0744583814ef",
   "metadata": {},
   "outputs": [
    {
     "data": {
      "text/plain": [
       "'There are minimal levels of management mentioned in the context, indicating that Nestlé has fewer hierarchical layers to increase efficiency and flexibility within the organization. This approach allows for broad spans of control, promoting cooperation between colleagues and creating a more accountable and innovative company. The emphasis is on a dynamic organization that encourages multi-skilled teams and cooperation over internal competition.'"
      ]
     },
     "execution_count": 13,
     "metadata": {},
     "output_type": "execute_result"
    }
   ],
   "source": [
    "tellme(\"how many hirerichial layers are theere\")"
   ]
  },
  {
   "cell_type": "code",
   "execution_count": 10,
   "id": "da90c535-7864-47d9-89ae-a36b94df74fa",
   "metadata": {},
   "outputs": [
    {
     "name": "stdout",
     "output_type": "stream",
     "text": [
      "IMPORTANT: You are using gradio version 4.7.1, however version 4.44.1 is available, please upgrade.\n",
      "--------\n",
      "Running on local URL:  http://127.0.0.1:7861\n",
      "\n",
      "Could not create share link. Missing file: /usr/local/lib/python3.10/site-packages/gradio/frpc_linux_amd64_v0.2. \n",
      "\n",
      "Please check your internet connection. This can happen if your antivirus software blocks the download of this file. You can install manually by following these steps: \n",
      "\n",
      "1. Download this file: https://cdn-media.huggingface.co/frpc-gradio-0.2/frpc_linux_amd64\n",
      "2. Rename the downloaded file to: frpc_linux_amd64_v0.2\n",
      "3. Move the file to this location: /usr/local/lib/python3.10/site-packages/gradio\n"
     ]
    },
    {
     "data": {
      "text/html": [
       "<div><iframe src=\"http://127.0.0.1:7861/\" width=\"100%\" height=\"500\" allow=\"autoplay; camera; microphone; clipboard-read; clipboard-write;\" frameborder=\"0\" allowfullscreen></iframe></div>"
      ],
      "text/plain": [
       "<IPython.core.display.HTML object>"
      ]
     },
     "metadata": {},
     "output_type": "display_data"
    }
   ],
   "source": [
    "#\n",
    "# Gradio APP for web-interface for testing \n",
    "#\n",
    "\n",
    "import gradio as gr\n",
    "import sys\n",
    "gr.close_all() \n",
    "\n",
    "# Dummy response generator (replace with actual model logic)\n",
    "def generate_answer(message, history):\n",
    "    tellme(message)\n",
    "    return tellme(message)\n",
    "\n",
    "with gr.Blocks(theme=\"soft\") as demo:\n",
    "    gr.Markdown(\"# Nestle's HR Policy\")\n",
    "    gr.Markdown(\"Ask any questions below:\")\n",
    "\n",
    "    chatbot = gr.Chatbot(height=300)\n",
    "    message_input = gr.Textbox(placeholder=\"Ask any questions on HR policy\", label=\"Your question\")\n",
    "\n",
    "    with gr.Row():\n",
    "        ask_button = gr.Button(\"Ask\")\n",
    "        clear_button = gr.Button(\"Clear History\")\n",
    "        quit_button = gr.Button(\"Quit\")\n",
    "\n",
    "    history = []\n",
    "\n",
    "    def respond(user_message, chat_history):\n",
    "        response = generate_answer(user_message, chat_history)\n",
    "        chat_history = chat_history + [(user_message, response)]\n",
    "        return chat_history, \"\"\n",
    "\n",
    "    def clear_chat():\n",
    "        return [], \"\"\n",
    "\n",
    "    def quit_app():\n",
    "        sys.exit()\n",
    "\n",
    "    ask_button.click(fn=respond, inputs=[message_input, chatbot], outputs=[chatbot, message_input])\n",
    "    clear_button.click(fn=clear_chat, outputs=[chatbot, message_input])\n",
    "    quit_button.click(fn=quit_app)\n",
    "\n",
    "if __name__ == \"__main__\":\n",
    "    demo.launch(share=True)\n"
   ]
  },
  {
   "cell_type": "code",
   "execution_count": null,
   "id": "ce7dad2e-f52d-48e0-9a54-2fb0fd23fdd1",
   "metadata": {},
   "outputs": [],
   "source": []
  }
 ],
 "metadata": {
  "kernelspec": {
   "display_name": "Python 3 [3.10]",
   "language": "python",
   "name": "python3"
  },
  "language_info": {
   "codemirror_mode": {
    "name": "ipython",
    "version": 3
   },
   "file_extension": ".py",
   "mimetype": "text/x-python",
   "name": "python",
   "nbconvert_exporter": "python",
   "pygments_lexer": "ipython3",
   "version": "3.10.2"
  }
 },
 "nbformat": 4,
 "nbformat_minor": 5
}
